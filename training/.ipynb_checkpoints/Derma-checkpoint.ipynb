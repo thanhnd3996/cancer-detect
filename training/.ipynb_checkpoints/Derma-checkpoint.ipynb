{
 "cells": [
  {
   "cell_type": "markdown",
   "metadata": {},
   "source": [
    "# Capstone Project"
   ]
  },
  {
   "cell_type": "markdown",
   "metadata": {},
   "source": [
    "## Machine Learning Engineer Nanodegree"
   ]
  },
  {
   "cell_type": "markdown",
   "metadata": {},
   "source": [
    "## Import modules"
   ]
  },
  {
   "cell_type": "code",
   "execution_count": null,
   "metadata": {},
   "outputs": [],
   "source": [
    "from keras.applications.inception_v3 import InceptionV3,preprocess_input,decode_predictions\n",
    "from keras.preprocessing import image\n",
    "import numpy as np\n",
    "from keras.layers import Dense, GlobalAveragePooling2D,Dropout,Input\n",
    "from keras.models import Sequential,Model\n",
    "from keras import backend as K\n",
    "from IPython.display import display"
   ]
  },
  {
   "cell_type": "markdown",
   "metadata": {},
   "source": [
    "## Load the pretrained model"
   ]
  },
  {
   "cell_type": "code",
   "execution_count": null,
   "metadata": {},
   "outputs": [],
   "source": [
    "base_model  = InceptionV3(weights = 'imagenet', include_top=False)\n",
    "print('loaded model')"
   ]
  },
  {
   "cell_type": "markdown",
   "metadata": {},
   "source": [
    "## Data Preprocessing"
   ]
  },
  {
   "cell_type": "code",
   "execution_count": null,
   "metadata": {},
   "outputs": [],
   "source": [
    "data_gen_args = dict(preprocessing_function=preprocess_input, #Define the dictionary for Image data Generator\n",
    "    rotation_range=30,\n",
    "    width_shift_range=0.2,\n",
    "    height_shift_range=0.2,\n",
    "    shear_range=0.2,\n",
    "    zoom_range=0.2,\n",
    "    horizontal_flip=True,\n",
    "    vertical_flip = True)\n",
    "\n",
    "train_datagen = image.ImageDataGenerator(**data_gen_args)\n",
    "test_datagen = image.ImageDataGenerator(**data_gen_args)"
   ]
  },
  {
   "cell_type": "markdown",
   "metadata": {},
   "source": [
    "### Loading Images from the Directory"
   ]
  },
  {
   "cell_type": "code",
   "execution_count": null,
   "metadata": {
    "scrolled": true
   },
   "outputs": [],
   "source": [
    "train_generator = train_datagen.flow_from_directory(\"C:\\\\Users\\\\Venkatesh\\\\Desktop\\\\Derma\\\\images\\\\train\",\n",
    "                                                    target_size=(299,299),batch_size=32)\n",
    "\n",
    "valid_generator = test_datagen.flow_from_directory(\"C:\\\\Users\\\\Venkatesh\\\\Desktop\\\\Derma\\\\images\\\\valid\",\n",
    "                                                     target_size=(299,299),batch_size=32)"
   ]
  },
  {
   "cell_type": "markdown",
   "metadata": {},
   "source": [
    "## Benchmark Model"
   ]
  },
  {
   "cell_type": "markdown",
   "metadata": {},
   "source": [
    "### Define the model architecture"
   ]
  },
  {
   "cell_type": "code",
   "execution_count": null,
   "metadata": {
    "scrolled": true
   },
   "outputs": [],
   "source": [
    "from keras.layers import Conv2D,MaxPooling2D,Flatten\n",
    "\n",
    "benchmark = Sequential()\n",
    "benchmark.add(Conv2D(filters = 16, kernel_size = 2, padding = 'same', activation = 'relu', input_shape = (299,299,3)))\n",
    "benchmark.add(MaxPooling2D(pool_size=2,padding='same'))\n",
    "benchmark.add(Conv2D(filters = 32, kernel_size = 2, padding = 'same', activation = 'relu'))\n",
    "benchmark.add(MaxPooling2D(pool_size=2,padding='same'))\n",
    "benchmark.add(Conv2D(filters = 64, kernel_size = 2, padding = 'same', activation = 'relu'))\n",
    "benchmark.add(MaxPooling2D(pool_size=2,padding='same'))\n",
    "benchmark.add(Dropout(0.3))\n",
    "benchmark.add(Flatten())\n",
    "benchmark.add(Dense(512, activation='relu'))\n",
    "benchmark.add(Dropout(0.5))\n",
    "benchmark.add(Dense(3, activation='softmax'))\n",
    "\n",
    "benchmark.summary()"
   ]
  },
  {
   "cell_type": "markdown",
   "metadata": {},
   "source": [
    "### Compile the Model"
   ]
  },
  {
   "cell_type": "code",
   "execution_count": null,
   "metadata": {},
   "outputs": [],
   "source": [
    "benchmark.compile(loss = 'categorical_crossentropy',optimizer='rmsprop', metrics = ['accuracy'])"
   ]
  },
  {
   "cell_type": "code",
   "execution_count": null,
   "metadata": {},
   "outputs": [],
   "source": [
    "from keras.callbacks import ModelCheckpoint,EarlyStopping\n",
    "\n",
    "# Save the model with best weights\n",
    "checkpointer = ModelCheckpoint('saved_model/benchmark.hdf5', verbose=1,save_best_only=True)\n",
    "# Stop the training if the model shows no improvement \n",
    "stopper = EarlyStopping(monitor='val_loss',min_delta=0.1,patience=0,verbose=1,mode='auto')"
   ]
  },
  {
   "cell_type": "markdown",
   "metadata": {},
   "source": [
    "### Train the model"
   ]
  },
  {
   "cell_type": "code",
   "execution_count": null,
   "metadata": {
    "scrolled": true
   },
   "outputs": [],
   "source": [
    "history = benchmark.fit_generator(train_generator, steps_per_epoch = 13,validation_data=valid_generator,validation_steps=3, epochs=10,verbose=1,callbacks=[checkpointer])"
   ]
  },
  {
   "cell_type": "markdown",
   "metadata": {},
   "source": [
    "## Transfer Learning"
   ]
  },
  {
   "cell_type": "code",
   "execution_count": null,
   "metadata": {
    "scrolled": true
   },
   "outputs": [],
   "source": [
    "# Define the output layers for Inceptionv3\n",
    "last = base_model.output\n",
    "x = GlobalAveragePooling2D()(last)\n",
    "x = Dense(512, activation='relu')(x)\n",
    "x = Dropout(0.5)(x)\n",
    "preds = Dense(3,activation='softmax')(x)\n",
    "\n",
    "model = Model(input=base_model.input,output=preds)\n",
    "model.summary()"
   ]
  },
  {
   "cell_type": "markdown",
   "metadata": {},
   "source": [
    "### Loading weights of benchmark model"
   ]
  },
  {
   "cell_type": "code",
   "execution_count": null,
   "metadata": {},
   "outputs": [],
   "source": [
    "#Load the weights for the common layers from the benchmark model\n",
    "base_model.load_weights(filepath='saved_model/benchmark.hdf5',by_name=True)"
   ]
  },
  {
   "cell_type": "code",
   "execution_count": null,
   "metadata": {},
   "outputs": [],
   "source": [
    "#Freeze the original layers of Inception3\n",
    "for layer in base_model.layers:\n",
    "    layer.trainable = False"
   ]
  },
  {
   "cell_type": "markdown",
   "metadata": {},
   "source": [
    "### Compile the model"
   ]
  },
  {
   "cell_type": "code",
   "execution_count": null,
   "metadata": {},
   "outputs": [],
   "source": [
    "#Compile the model\n",
    "model.compile(optimizer='adam', loss = 'categorical_crossentropy',metrics=['accuracy'])"
   ]
  },
  {
   "cell_type": "code",
   "execution_count": null,
   "metadata": {},
   "outputs": [],
   "source": [
    "from keras.callbacks import ModelCheckpoint,EarlyStopping\n",
    "\n",
    "# Save the model with best weights\n",
    "checkpointer = ModelCheckpoint('saved_model/transfer_learning.hdf5', verbose=1,save_best_only=True)\n",
    "# Stop the traning if the model shows no improvement\n",
    "stopper = EarlyStopping(monitor='val_loss',min_delta=0.1,patience=1,verbose=1,mode='auto')"
   ]
  },
  {
   "cell_type": "code",
   "execution_count": null,
   "metadata": {
    "scrolled": true
   },
   "outputs": [],
   "source": [
    "# Train the model\n",
    "history_transfer = model.fit_generator(train_generator, steps_per_epoch = 13,validation_data=valid_generator,validation_steps=4, epochs=5,verbose=1,callbacks=[checkpointer])"
   ]
  },
  {
   "cell_type": "markdown",
   "metadata": {},
   "source": [
    "### Display the dictionary of training metrics values"
   ]
  },
  {
   "cell_type": "code",
   "execution_count": null,
   "metadata": {},
   "outputs": [],
   "source": [
    "display(history_transfer.history)"
   ]
  },
  {
   "cell_type": "markdown",
   "metadata": {},
   "source": [
    "## Plot the graphs for accuracy and loss"
   ]
  },
  {
   "cell_type": "code",
   "execution_count": null,
   "metadata": {},
   "outputs": [],
   "source": [
    "plot_training(history_transfer)"
   ]
  },
  {
   "cell_type": "markdown",
   "metadata": {},
   "source": [
    "## Fine Tuning"
   ]
  },
  {
   "cell_type": "code",
   "execution_count": null,
   "metadata": {},
   "outputs": [],
   "source": [
    "for i, layer in enumerate(base_model.layers):\n",
    "    print(i, layer.name)"
   ]
  },
  {
   "cell_type": "code",
   "execution_count": null,
   "metadata": {},
   "outputs": [],
   "source": [
    "# Unfreeze the last three inception modules\n",
    "for layer in model.layers[:229]:\n",
    "    layer.trainable = False\n",
    "for layer in model.layers[229:]:\n",
    "    layer.trainable = True"
   ]
  },
  {
   "cell_type": "markdown",
   "metadata": {},
   "source": [
    "### Compile the model"
   ]
  },
  {
   "cell_type": "code",
   "execution_count": null,
   "metadata": {},
   "outputs": [],
   "source": [
    "from keras.optimizers import SGD\n",
    "\n",
    "# Use an optimizer with slow learning rate\n",
    "model.compile(optimizer=SGD(lr=0.0001,momentum=0.9),loss = 'categorical_crossentropy', metrics = ['accuracy'])"
   ]
  },
  {
   "cell_type": "code",
   "execution_count": null,
   "metadata": {},
   "outputs": [],
   "source": [
    "#Save the model with best validation loss\n",
    "checkpointer = ModelCheckpoint('saved_model/fine_tuning.hdf5.hdf5', verbose=1,save_best_only=True,monitor='val_loss')\n",
    "\n",
    "# Stop the traning if the validation loss doesn't improve\n",
    "stopper = EarlyStopping(monitor='val_loss,val_acc',min_delta=0.1,patience=2,verbose=1,mode='auto')"
   ]
  },
  {
   "cell_type": "code",
   "execution_count": null,
   "metadata": {
    "scrolled": true
   },
   "outputs": [],
   "source": [
    "# Train the model\n",
    "history = model.fit_generator(train_generator, steps_per_epoch = 13,validation_data=valid_generator,validation_steps=3, epochs=5,verbose=1,callbacks=[checkpointer])"
   ]
  },
  {
   "cell_type": "markdown",
   "metadata": {},
   "source": [
    "## Predict Function"
   ]
  },
  {
   "cell_type": "code",
   "execution_count": null,
   "metadata": {},
   "outputs": [],
   "source": [
    "# Load the weights fromt the fine-tuned model\n",
    "model.load_weights('saved_model/fine_tuning.hdf5.hdf5')"
   ]
  },
  {
   "cell_type": "code",
   "execution_count": null,
   "metadata": {},
   "outputs": [],
   "source": [
    "from keras.preprocessing.image import img_to_array,load_img\n",
    "import matplotlib.pyplot as plt\n",
    "import cv2\n",
    "%matplotlib inline\n",
    "def pred(img_path):    \n",
    "    img = load_img(img_path,target_size = (299,299)) #Load the image and set the target size to the size of input of our model\n",
    "    x = img_to_array(img) #Convert the image to array\n",
    "    x = np.expand_dims(x,axis=0) #Convert the array to the form (1,x,y,z) \n",
    "    x = preprocess_input(x) # Use the preprocess input function o subtract the mean of all the images\n",
    "    p = np.argmax(model.predict(x)) # Store the argmax of the predictions\n",
    "    if p==0:     # P=0 for basal,P=1 for melanoma , P=2 for squamous\n",
    "        print(\"basal\")\n",
    "    elif p==1:\n",
    "        print(\"melanoma\")\n",
    "    elif p==2:\n",
    "        print(\"squamous\")"
   ]
  },
  {
   "cell_type": "code",
   "execution_count": null,
   "metadata": {
    "scrolled": false
   },
   "outputs": [],
   "source": [
    "pred(\"C:\\\\Users\\\\Venkatesh\\\\Desktop\\\\Derma\\\\test\\\\bas-1.jpg\")\n",
    "z = plt.imread('C:\\\\Users\\\\Venkatesh\\\\Desktop\\\\Derma\\\\test\\\\bas-1.jpg') \n",
    "plt.imshow(z);         #print the loaded image"
   ]
  },
  {
   "cell_type": "code",
   "execution_count": null,
   "metadata": {},
   "outputs": [],
   "source": [
    "pred(\"C:\\\\Users\\\\Venkatesh\\\\Desktop\\\\Derma\\\\test\\\\bas-2.jpg\")\n",
    "z = plt.imread('C:\\\\Users\\\\Venkatesh\\\\Desktop\\\\Derma\\\\test\\\\bas-2.jpg')\n",
    "plt.imshow(z);"
   ]
  },
  {
   "cell_type": "code",
   "execution_count": null,
   "metadata": {},
   "outputs": [],
   "source": [
    "pred(\"C:\\\\Users\\\\Venkatesh\\\\Desktop\\\\Derma\\\\test\\\\sqa-1.jpg\")\n",
    "z = plt.imread('C:\\\\Users\\\\Venkatesh\\\\Desktop\\\\Derma\\\\test\\\\sqa-1.jpg')\n",
    "plt.imshow(z);"
   ]
  },
  {
   "cell_type": "code",
   "execution_count": null,
   "metadata": {},
   "outputs": [],
   "source": [
    "pred(\"C:\\\\Users\\\\Venkatesh\\\\Desktop\\\\Derma\\\\test\\\\sqa-2.jpg\")\n",
    "z = plt.imread('C:\\\\Users\\\\Venkatesh\\\\Desktop\\\\Derma\\\\test\\\\sqa-2.jpg')\n",
    "plt.imshow(z);"
   ]
  },
  {
   "cell_type": "code",
   "execution_count": null,
   "metadata": {},
   "outputs": [],
   "source": [
    "pred(\"C:\\\\Users\\\\Venkatesh\\\\Desktop\\\\Derma\\\\test\\\\mel-1.jpg\")\n",
    "z = plt.imread('C:\\\\Users\\\\Venkatesh\\\\Desktop\\\\Derma\\\\test\\\\mel-1.jpg')\n",
    "plt.imshow(z);"
   ]
  },
  {
   "cell_type": "code",
   "execution_count": null,
   "metadata": {
    "scrolled": true
   },
   "outputs": [],
   "source": [
    "pred(\"C:\\\\Users\\\\Venkatesh\\\\Desktop\\\\Derma\\\\test\\\\mel-2.jpg\")\n",
    "z = plt.imread('C:\\\\Users\\\\Venkatesh\\\\Desktop\\\\Derma\\\\test\\\\mel-2.jpg')\n",
    "plt.imshow(z);"
   ]
  },
  {
   "cell_type": "markdown",
   "metadata": {},
   "source": [
    "### Display the dictionary of training metrics values"
   ]
  },
  {
   "cell_type": "code",
   "execution_count": null,
   "metadata": {},
   "outputs": [],
   "source": [
    "display(history.history)"
   ]
  },
  {
   "cell_type": "markdown",
   "metadata": {},
   "source": [
    "### Method for plotting graphs"
   ]
  },
  {
   "cell_type": "code",
   "execution_count": null,
   "metadata": {},
   "outputs": [],
   "source": [
    "def plot_training(history):\n",
    "    acc = history.history['acc'] \n",
    "    val_acc = history.history['val_acc']\n",
    "    loss = history.history['loss']\n",
    "    val_loss = history.history['val_loss']\n",
    "    epochs  = range(len(acc))\n",
    "    \n",
    "    plt.plot(epochs,acc,'b')\n",
    "    plt.plot(epochs,val_acc,'r')\n",
    "    plt.title(\"Training and validation accuracy\")\n",
    "    \n",
    "    plt.figure()\n",
    "    plt.plot(epochs,loss,'b')\n",
    "    plt.plot(epochs,val_loss,'r')\n",
    "    plt.title(\"Training and validation loss\")\n",
    "    \n",
    "    plt.show()"
   ]
  },
  {
   "cell_type": "code",
   "execution_count": null,
   "metadata": {},
   "outputs": [],
   "source": [
    "plot_training(history)"
   ]
  }
 ],
 "metadata": {
  "anaconda-cloud": {},
  "kernelspec": {
   "display_name": "Python 3",
   "language": "python",
   "name": "python3"
  },
  "language_info": {
   "codemirror_mode": {
    "name": "ipython",
    "version": 3
   },
   "file_extension": ".py",
   "mimetype": "text/x-python",
   "name": "python",
   "nbconvert_exporter": "python",
   "pygments_lexer": "ipython3",
   "version": "3.7.3"
  }
 },
 "nbformat": 4,
 "nbformat_minor": 1
}
